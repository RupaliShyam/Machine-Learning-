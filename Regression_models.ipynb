{
  "nbformat": 4,
  "nbformat_minor": 0,
  "metadata": {
    "colab": {
      "name": "Regression_models.ipynb",
      "provenance": [],
      "collapsed_sections": []
    },
    "kernelspec": {
      "name": "python3",
      "display_name": "Python 3"
    }
  },
  "cells": [
    {
      "cell_type": "markdown",
      "metadata": {
        "id": "kTVTpzb0X_HX",
        "colab_type": "text"
      },
      "source": [
        "Linear Regression"
      ]
    },
    {
      "cell_type": "code",
      "metadata": {
        "id": "CXkbl9xsYQ__",
        "colab_type": "code",
        "colab": {}
      },
      "source": [
        "import pandas as pd\n",
        "import numpy as np\n",
        "pd.set_option('display.max_columns', None)\n",
        "direct_marketing = pd.read_csv('DATASET_DIRECT_MARKETING.csv')"
      ],
      "execution_count": 0,
      "outputs": []
    },
    {
      "cell_type": "markdown",
      "metadata": {
        "id": "oIJQOtQNYI_H",
        "colab_type": "text"
      },
      "source": [
        "Feature exploration: Create histogram for 'AmountSpent' & 'Salary'."
      ]
    },
    {
      "cell_type": "code",
      "metadata": {
        "id": "Xdk7mLgYYRyU",
        "colab_type": "code",
        "outputId": "040c5479-167e-4580-a5cc-ab8ede0e5867",
        "colab": {
          "base_uri": "https://localhost:8080/",
          "height": 194
        }
      },
      "source": [
        "direct_marketing.head()"
      ],
      "execution_count": 0,
      "outputs": [
        {
          "output_type": "execute_result",
          "data": {
            "text/html": [
              "<div>\n",
              "<style scoped>\n",
              "    .dataframe tbody tr th:only-of-type {\n",
              "        vertical-align: middle;\n",
              "    }\n",
              "\n",
              "    .dataframe tbody tr th {\n",
              "        vertical-align: top;\n",
              "    }\n",
              "\n",
              "    .dataframe thead th {\n",
              "        text-align: right;\n",
              "    }\n",
              "</style>\n",
              "<table border=\"1\" class=\"dataframe\">\n",
              "  <thead>\n",
              "    <tr style=\"text-align: right;\">\n",
              "      <th></th>\n",
              "      <th>Age</th>\n",
              "      <th>Gender</th>\n",
              "      <th>OwnHome</th>\n",
              "      <th>Married</th>\n",
              "      <th>Location</th>\n",
              "      <th>Salary</th>\n",
              "      <th>Children</th>\n",
              "      <th>History</th>\n",
              "      <th>Catalogs</th>\n",
              "      <th>AmountSpent</th>\n",
              "    </tr>\n",
              "  </thead>\n",
              "  <tbody>\n",
              "    <tr>\n",
              "      <th>0</th>\n",
              "      <td>Old</td>\n",
              "      <td>Female</td>\n",
              "      <td>Own</td>\n",
              "      <td>Single</td>\n",
              "      <td>Far</td>\n",
              "      <td>47500</td>\n",
              "      <td>0</td>\n",
              "      <td>High</td>\n",
              "      <td>6</td>\n",
              "      <td>755</td>\n",
              "    </tr>\n",
              "    <tr>\n",
              "      <th>1</th>\n",
              "      <td>Middle</td>\n",
              "      <td>Male</td>\n",
              "      <td>Rent</td>\n",
              "      <td>Single</td>\n",
              "      <td>Close</td>\n",
              "      <td>63600</td>\n",
              "      <td>0</td>\n",
              "      <td>High</td>\n",
              "      <td>6</td>\n",
              "      <td>1318</td>\n",
              "    </tr>\n",
              "    <tr>\n",
              "      <th>2</th>\n",
              "      <td>Young</td>\n",
              "      <td>Female</td>\n",
              "      <td>Rent</td>\n",
              "      <td>Single</td>\n",
              "      <td>Close</td>\n",
              "      <td>13500</td>\n",
              "      <td>0</td>\n",
              "      <td>Low</td>\n",
              "      <td>18</td>\n",
              "      <td>296</td>\n",
              "    </tr>\n",
              "    <tr>\n",
              "      <th>3</th>\n",
              "      <td>Middle</td>\n",
              "      <td>Male</td>\n",
              "      <td>Own</td>\n",
              "      <td>Married</td>\n",
              "      <td>Close</td>\n",
              "      <td>85600</td>\n",
              "      <td>1</td>\n",
              "      <td>High</td>\n",
              "      <td>18</td>\n",
              "      <td>2436</td>\n",
              "    </tr>\n",
              "    <tr>\n",
              "      <th>4</th>\n",
              "      <td>Middle</td>\n",
              "      <td>Female</td>\n",
              "      <td>Own</td>\n",
              "      <td>Single</td>\n",
              "      <td>Close</td>\n",
              "      <td>68400</td>\n",
              "      <td>0</td>\n",
              "      <td>High</td>\n",
              "      <td>12</td>\n",
              "      <td>1304</td>\n",
              "    </tr>\n",
              "  </tbody>\n",
              "</table>\n",
              "</div>"
            ],
            "text/plain": [
              "      Age  Gender OwnHome  Married Location  Salary  Children History  \\\n",
              "0     Old  Female     Own   Single      Far   47500         0    High   \n",
              "1  Middle    Male    Rent   Single    Close   63600         0    High   \n",
              "2   Young  Female    Rent   Single    Close   13500         0     Low   \n",
              "3  Middle    Male     Own  Married    Close   85600         1    High   \n",
              "4  Middle  Female     Own   Single    Close   68400         0    High   \n",
              "\n",
              "   Catalogs  AmountSpent  \n",
              "0         6          755  \n",
              "1         6         1318  \n",
              "2        18          296  \n",
              "3        18         2436  \n",
              "4        12         1304  "
            ]
          },
          "metadata": {
            "tags": []
          },
          "execution_count": 43
        }
      ]
    },
    {
      "cell_type": "code",
      "metadata": {
        "id": "r81yJ_fnZFEX",
        "colab_type": "code",
        "outputId": "ba32fcea-ca50-42da-c406-eb2159b9f75f",
        "colab": {
          "base_uri": "https://localhost:8080/",
          "height": 212
        }
      },
      "source": [
        "direct_marketing.isnull().sum(axis=0)"
      ],
      "execution_count": 0,
      "outputs": [
        {
          "output_type": "execute_result",
          "data": {
            "text/plain": [
              "Age              0\n",
              "Gender           0\n",
              "OwnHome          0\n",
              "Married          0\n",
              "Location         0\n",
              "Salary           0\n",
              "Children         0\n",
              "History        303\n",
              "Catalogs         0\n",
              "AmountSpent      0\n",
              "dtype: int64"
            ]
          },
          "metadata": {
            "tags": []
          },
          "execution_count": 44
        }
      ]
    },
    {
      "cell_type": "code",
      "metadata": {
        "id": "YPFVPLWQYJP2",
        "colab_type": "code",
        "outputId": "b6f8ba9f-2e89-4074-8df1-82472695b81e",
        "colab": {
          "base_uri": "https://localhost:8080/",
          "height": 266
        }
      },
      "source": [
        "import matplotlib.pyplot as plt\n",
        "plt.hist(direct_marketing['Salary'],\n",
        "         bins = 20,\n",
        "         alpha=0.8, \n",
        "         color='red',\n",
        "        label = 'Salary')\n",
        "\n",
        "plt.hist(direct_marketing['AmountSpent'],\n",
        "        bins = 20,\n",
        "        alpha = 0.8,\n",
        "        color = 'blue',\n",
        "        label = 'AmountSpent')\n",
        "\n",
        "plt.legend(loc = 'upper left')\n",
        "plt.show()"
      ],
      "execution_count": 0,
      "outputs": [
        {
          "output_type": "display_data",
          "data": {
            "image/png": "[encoded data removed]",
            "text/plain": [
              "<Figure size 432x288 with 1 Axes>"
            ]
          },
          "metadata": {
            "tags": []
          }
        }
      ]
    },
    {
      "cell_type": "markdown",
      "metadata": {
        "id": "7z2W2ceTdAO6",
        "colab_type": "text"
      },
      "source": [
        "From the histogram we can see that both the variables are right skewed and do not have a normal distribution. "
      ]
    },
    {
      "cell_type": "markdown",
      "metadata": {
        "id": "ti-C1Uo2Zcse",
        "colab_type": "text"
      },
      "source": [
        "Going to predict 'AmountSpent'. The shape of 'Salary' and 'AmountSpent' go against one of the statistical assumptions of multiple linear regression. "
      ]
    },
    {
      "cell_type": "markdown",
      "metadata": {
        "id": "zSSOcHHxf4Nj",
        "colab_type": "text"
      },
      "source": [
        "Since both the features are a little right skewed, it goes against the normality assumption that assumes all continuous variables to be multivariate normal. We can normalize the features by taking their square root.\n"
      ]
    },
    {
      "cell_type": "code",
      "metadata": {
        "id": "p0xMfdKtjhRh",
        "colab_type": "code",
        "colab": {}
      },
      "source": [
        "import numpy as np\n",
        "direct_marketing['AmountSpentTransform'] = np.sqrt(direct_marketing['AmountSpent'])\n",
        "direct_marketing['SalaryTransform'] = np.sqrt(direct_marketing['Salary'])\n"
      ],
      "execution_count": 0,
      "outputs": []
    },
    {
      "cell_type": "code",
      "metadata": {
        "id": "WV5_nHq2dSVc",
        "colab_type": "code",
        "outputId": "72636ff4-5aa1-4a4f-ed04-56fce312d4fd",
        "colab": {
          "base_uri": "https://localhost:8080/",
          "height": 267
        }
      },
      "source": [
        "plt.hist(direct_marketing['SalaryTransform'],\n",
        "         bins = 15,\n",
        "         alpha=0.8, \n",
        "         color='red',\n",
        "        label = 'Transformed Salary')\n",
        "\n",
        "plt.hist(direct_marketing['AmountSpentTransform'],\n",
        "        bins = 15,\n",
        "        alpha = 0.8,\n",
        "        color = 'blue',\n",
        "        label = 'Transformed AmountSpent')\n",
        "\n",
        "plt.legend(loc = 'upper left')\n",
        "plt.show()\n",
        "\n"
      ],
      "execution_count": 0,
      "outputs": [
        {
          "output_type": "display_data",
          "data": {
            "image/png": "[encoded data removed]",
            "text/plain": [
              "<Figure size 432x288 with 1 Axes>"
            ]
          },
          "metadata": {
            "tags": []
          }
        }
      ]
    },
    {
      "cell_type": "markdown",
      "metadata": {
        "id": "fZ3tEsRFaP4U",
        "colab_type": "text"
      },
      "source": [
        "Performing LASSO and Ridge multiple linear regression to predict 'AmountSpent'. "
      ]
    },
    {
      "cell_type": "markdown",
      "metadata": {
        "id": "Crk8NqvCaSFC",
        "colab_type": "text"
      },
      "source": [
        "Feature Engineering\n"
      ]
    },
    {
      "cell_type": "code",
      "metadata": {
        "id": "06apB3SjplQZ",
        "colab_type": "code",
        "colab": {}
      },
      "source": [
        "# Preprocess categorical values with Label encoding\n",
        "from sklearn import preprocessing\n",
        "le = preprocessing.LabelEncoder()\n",
        "direct_marketing['AgeTransform'] = le.fit_transform(direct_marketing['Age'])\n",
        "direct_marketing['GenderTransform'] = le.fit_transform(direct_marketing['Gender'])\n",
        "direct_marketing['OwnHomeTransform'] = le.fit_transform(direct_marketing['OwnHome'])\n",
        "direct_marketing['MarriedTransform'] = le.fit_transform(direct_marketing['Married'])\n",
        "direct_marketing['LocationTransform'] = le.fit_transform(direct_marketing['Location'])"
      ],
      "execution_count": 0,
      "outputs": []
    },
    {
      "cell_type": "code",
      "metadata": {
        "id": "BEXWQ47IppMN",
        "colab_type": "code",
        "outputId": "01d0aed5-8135-4777-fc82-f1d9a3378113",
        "colab": {
          "base_uri": "https://localhost:8080/",
          "height": 88
        }
      },
      "source": [
        "# check for nulls\n",
        "direct_marketing['History'].isnull().sum(axis=0)\n",
        "direct_marketing['History'].value_counts()\n",
        "\n",
        "# Imputing nulls using most frequent value\n",
        "from sklearn.preprocessing import Imputer\n",
        "imputer = Imputer(strategy='most_frequent', axis=0)\n",
        "imputer.fit_transform(X)"
      ],
      "execution_count": 0,
      "outputs": [
        {
          "output_type": "execute_result",
          "data": {
            "text/plain": [
              "High      255\n",
              "Low       230\n",
              "Medium    212\n",
              "Name: History, dtype: int64"
            ]
          },
          "metadata": {
            "tags": []
          },
          "execution_count": 48
        }
      ]
    },
    {
      "cell_type": "code",
      "metadata": {
        "id": "pbJkUKLex3IT",
        "colab_type": "code",
        "colab": {}
      },
      "source": [
        "direct_marketing_fs = direct_marketing[['SalaryTransform', 'Children', 'Catalogs','AgeTransform', 'GenderTransform', 'OwnHomeTransform', 'MarriedTransform','LocationTransform']]\n",
        "target = direct_marketing[['AmountSpentTransform']]"
      ],
      "execution_count": 0,
      "outputs": []
    },
    {
      "cell_type": "code",
      "metadata": {
        "id": "5VBkp0oPplN_",
        "colab_type": "code",
        "outputId": "7106190d-d804-4c2b-d057-1ef655f1cebb",
        "colab": {
          "base_uri": "https://localhost:8080/",
          "height": 194
        }
      },
      "source": [
        "direct_marketing_fs.head()"
      ],
      "execution_count": 0,
      "outputs": [
        {
          "output_type": "execute_result",
          "data": {
            "text/html": [
              "<div>\n",
              "<style scoped>\n",
              "    .dataframe tbody tr th:only-of-type {\n",
              "        vertical-align: middle;\n",
              "    }\n",
              "\n",
              "    .dataframe tbody tr th {\n",
              "        vertical-align: top;\n",
              "    }\n",
              "\n",
              "    .dataframe thead th {\n",
              "        text-align: right;\n",
              "    }\n",
              "</style>\n",
              "<table border=\"1\" class=\"dataframe\">\n",
              "  <thead>\n",
              "    <tr style=\"text-align: right;\">\n",
              "      <th></th>\n",
              "      <th>SalaryTransform</th>\n",
              "      <th>Children</th>\n",
              "      <th>Catalogs</th>\n",
              "      <th>AgeTransform</th>\n",
              "      <th>GenderTransform</th>\n",
              "      <th>OwnHomeTransform</th>\n",
              "      <th>MarriedTransform</th>\n",
              "      <th>LocationTransform</th>\n",
              "    </tr>\n",
              "  </thead>\n",
              "  <tbody>\n",
              "    <tr>\n",
              "      <th>0</th>\n",
              "      <td>217.944947</td>\n",
              "      <td>0</td>\n",
              "      <td>6</td>\n",
              "      <td>1</td>\n",
              "      <td>0</td>\n",
              "      <td>0</td>\n",
              "      <td>1</td>\n",
              "      <td>1</td>\n",
              "    </tr>\n",
              "    <tr>\n",
              "      <th>1</th>\n",
              "      <td>252.190404</td>\n",
              "      <td>0</td>\n",
              "      <td>6</td>\n",
              "      <td>0</td>\n",
              "      <td>1</td>\n",
              "      <td>1</td>\n",
              "      <td>1</td>\n",
              "      <td>0</td>\n",
              "    </tr>\n",
              "    <tr>\n",
              "      <th>2</th>\n",
              "      <td>116.189500</td>\n",
              "      <td>0</td>\n",
              "      <td>18</td>\n",
              "      <td>2</td>\n",
              "      <td>0</td>\n",
              "      <td>1</td>\n",
              "      <td>1</td>\n",
              "      <td>0</td>\n",
              "    </tr>\n",
              "    <tr>\n",
              "      <th>3</th>\n",
              "      <td>292.574777</td>\n",
              "      <td>1</td>\n",
              "      <td>18</td>\n",
              "      <td>0</td>\n",
              "      <td>1</td>\n",
              "      <td>0</td>\n",
              "      <td>0</td>\n",
              "      <td>0</td>\n",
              "    </tr>\n",
              "    <tr>\n",
              "      <th>4</th>\n",
              "      <td>261.533937</td>\n",
              "      <td>0</td>\n",
              "      <td>12</td>\n",
              "      <td>0</td>\n",
              "      <td>0</td>\n",
              "      <td>0</td>\n",
              "      <td>1</td>\n",
              "      <td>0</td>\n",
              "    </tr>\n",
              "  </tbody>\n",
              "</table>\n",
              "</div>"
            ],
            "text/plain": [
              "   SalaryTransform  Children  Catalogs  AgeTransform  GenderTransform  \\\n",
              "0       217.944947         0         6             1                0   \n",
              "1       252.190404         0         6             0                1   \n",
              "2       116.189500         0        18             2                0   \n",
              "3       292.574777         1        18             0                1   \n",
              "4       261.533937         0        12             0                0   \n",
              "\n",
              "   OwnHomeTransform  MarriedTransform  LocationTransform  \n",
              "0                 0                 1                  1  \n",
              "1                 1                 1                  0  \n",
              "2                 1                 1                  0  \n",
              "3                 0                 0                  0  \n",
              "4                 0                 1                  0  "
            ]
          },
          "metadata": {
            "tags": []
          },
          "execution_count": 52
        }
      ]
    },
    {
      "cell_type": "code",
      "metadata": {
        "id": "Hvq4Exq2m8Xa",
        "colab_type": "code",
        "colab": {}
      },
      "source": [
        "from sklearn.preprocessing import StandardScaler\n",
        "scaler = StandardScaler()\n",
        "X_std = scaler.fit_transform(direct_marketing_fs)"
      ],
      "execution_count": 0,
      "outputs": []
    },
    {
      "cell_type": "code",
      "metadata": {
        "id": "G-uf8r4LdSZ-",
        "colab_type": "code",
        "colab": {}
      },
      "source": [
        "from sklearn.model_selection import train_test_split\n",
        "x_train, x_test, y_train, y_test = train_test_split(X_std, \n",
        "                                                    target, \n",
        "                                                    test_size=0.2, \n",
        "                                                    random_state=1)"
      ],
      "execution_count": 0,
      "outputs": []
    },
    {
      "cell_type": "code",
      "metadata": {
        "id": "t1_gyofZo8m3",
        "colab_type": "code",
        "colab": {}
      },
      "source": [
        "from sklearn.linear_model import LassoCV\n",
        "lasso_cv = LassoCV(alphas = [0.01, 0.1, 0.5, 1, 5, 10])"
      ],
      "execution_count": 0,
      "outputs": []
    },
    {
      "cell_type": "code",
      "metadata": {
        "id": "HD8mUkeVpAO4",
        "colab_type": "code",
        "outputId": "0589dbc4-67d7-4bb8-f6df-1e8cdf4a1590",
        "colab": {
          "base_uri": "https://localhost:8080/",
          "height": 90
        }
      },
      "source": [
        "model_cv = lasso_cv.fit(x_train, y_train)\n",
        "model_cv.alpha_"
      ],
      "execution_count": 0,
      "outputs": [
        {
          "output_type": "stream",
          "text": [
            "/usr/local/lib/python3.6/dist-packages/sklearn/linear_model/_coordinate_descent.py:1088: DataConversionWarning: A column-vector y was passed when a 1d array was expected. Please change the shape of y to (n_samples, ), for example using ravel().\n",
            "  y = column_or_1d(y, warn=True)\n"
          ],
          "name": "stderr"
        },
        {
          "output_type": "execute_result",
          "data": {
            "text/plain": [
              "0.1"
            ]
          },
          "metadata": {
            "tags": []
          },
          "execution_count": 56
        }
      ]
    },
    {
      "cell_type": "code",
      "metadata": {
        "id": "409SObqJmfqx",
        "colab_type": "code",
        "colab": {}
      },
      "source": [
        "model_cv.score(x_train, y_train)"
      ],
      "execution_count": 0,
      "outputs": []
    },
    {
      "cell_type": "code",
      "metadata": {
        "id": "QSY0AgWsmen4",
        "colab_type": "code",
        "outputId": "5d0bad2a-065c-4c4f-a019-88db7393f20b",
        "colab": {
          "base_uri": "https://localhost:8080/",
          "height": 35
        }
      },
      "source": [
        "model_cv.score(x_test, y_test)"
      ],
      "execution_count": 0,
      "outputs": [
        {
          "output_type": "execute_result",
          "data": {
            "text/plain": [
              "0.7987278292951447"
            ]
          },
          "metadata": {
            "tags": []
          },
          "execution_count": 58
        }
      ]
    },
    {
      "cell_type": "markdown",
      "metadata": {
        "id": "fJUzmF5Wtiq-",
        "colab_type": "text"
      },
      "source": [
        "Ridge Regression"
      ]
    },
    {
      "cell_type": "code",
      "metadata": {
        "id": "1iSRdrIQtqHR",
        "colab_type": "code",
        "colab": {}
      },
      "source": [
        "from sklearn.linear_model import RidgeCV\n",
        "ridge_cv = RidgeCV(alphas = [0.01, 0.1, 0.5, 1, 5, 10])"
      ],
      "execution_count": 0,
      "outputs": []
    },
    {
      "cell_type": "code",
      "metadata": {
        "id": "4-5EjjSXtt_A",
        "colab_type": "code",
        "outputId": "4fac27a9-9645-4e48-c89b-c9005eba477c",
        "colab": {
          "base_uri": "https://localhost:8080/",
          "height": 35
        }
      },
      "source": [
        "# Fit the linear regression\n",
        "ridge_model_cv = ridge_cv.fit(x_train, y_train)\n",
        "ridge_model_cv.alpha_"
      ],
      "execution_count": 0,
      "outputs": [
        {
          "output_type": "execute_result",
          "data": {
            "text/plain": [
              "1.0"
            ]
          },
          "metadata": {
            "tags": []
          },
          "execution_count": 60
        }
      ]
    },
    {
      "cell_type": "code",
      "metadata": {
        "id": "h-X2izzStuK1",
        "colab_type": "code",
        "outputId": "5863db25-b1d9-4325-d44d-24e3c566212a",
        "colab": {
          "base_uri": "https://localhost:8080/",
          "height": 34
        }
      },
      "source": [
        "ridge_model_cv.score(x_train, y_train)"
      ],
      "execution_count": 0,
      "outputs": [
        {
          "output_type": "execute_result",
          "data": {
            "text/plain": [
              "0.7981049940543106"
            ]
          },
          "metadata": {
            "tags": []
          },
          "execution_count": 114
        }
      ]
    },
    {
      "cell_type": "code",
      "metadata": {
        "id": "ozqJMzcwtuHc",
        "colab_type": "code",
        "outputId": "3c965f32-d25d-465f-dc9d-a2e9df30d753",
        "colab": {
          "base_uri": "https://localhost:8080/",
          "height": 34
        }
      },
      "source": [
        "ridge_model_cv.score(x_test, y_test)"
      ],
      "execution_count": 0,
      "outputs": [
        {
          "output_type": "execute_result",
          "data": {
            "text/plain": [
              "0.8004632929292838"
            ]
          },
          "metadata": {
            "tags": []
          },
          "execution_count": 115
        }
      ]
    },
    {
      "cell_type": "markdown",
      "metadata": {
        "id": "zfRkf-Nq_W9X",
        "colab_type": "text"
      },
      "source": [
        "The Ridge regression model seems to perform better than the Lasso regression model in terms of fit as well as prediction. \n",
        "The alpha value is chosen through cross-validation for the the best performing model.\n",
        "\n",
        "The alpha value chosen for Lasso is 0.1\n",
        "\n",
        "The alpha value chosen for Ridge is 1.0"
      ]
    },
    {
      "cell_type": "markdown",
      "metadata": {
        "id": "02C9p4Uqz657",
        "colab_type": "text"
      },
      "source": [
        "Plotting the fitted values of your best model and the residuals. \n",
        "\n",
        "\n"
      ]
    },
    {
      "cell_type": "code",
      "metadata": {
        "id": "IYq7JMvgtuBu",
        "colab_type": "code",
        "outputId": "cfd2e645-2716-4a87-b4d7-cb82496d4a7f",
        "colab": {
          "base_uri": "https://localhost:8080/",
          "height": 35
        }
      },
      "source": [
        "fitted_values = model_cv.predict(x_test)\n",
        "fitted_value = fitted_values.reshape(-1,1) \n",
        "#fitted_value[:,np.newaxis]\n",
        "residuals = y_test.values - fitted_value\n",
        "fitted_value.shape"
      ],
      "execution_count": 0,
      "outputs": [
        {
          "output_type": "execute_result",
          "data": {
            "text/plain": [
              "(200, 1)"
            ]
          },
          "metadata": {
            "tags": []
          },
          "execution_count": 64
        }
      ]
    },
    {
      "cell_type": "code",
      "metadata": {
        "id": "2uW2H9r4r5mF",
        "colab_type": "code",
        "outputId": "af568381-3127-43a0-d599-14478018771e",
        "colab": {
          "base_uri": "https://localhost:8080/",
          "height": 281
        }
      },
      "source": [
        "from numpy.polynomial.polynomial import polyfit\n",
        "plt.scatter(fitted_value, residuals)\n",
        "plt.xlabel('Fitted values')\n",
        "plt.ylabel('Residuals')\n",
        "plt.show()"
      ],
      "execution_count": 0,
      "outputs": [
        {
          "output_type": "display_data",
          "data": {
            "image/png": "[encoded data removed]",
            "text/plain": [
              "<Figure size 432x288 with 1 Axes>"
            ]
          },
          "metadata": {
            "tags": []
          }
        }
      ]
    },
    {
      "cell_type": "markdown",
      "metadata": {
        "id": "Ois4mdXbw8YG",
        "colab_type": "text"
      },
      "source": [
        "There seems to be no pattern in the residual values. Therefore satisfying statistical assumptions.\n"
      ]
    },
    {
      "cell_type": "markdown",
      "metadata": {
        "id": "4Ukg7iny2ZrR",
        "colab_type": "text"
      },
      "source": [
        "Classificiation"
      ]
    },
    {
      "cell_type": "code",
      "metadata": {
        "id": "gEbvE3rn2YHM",
        "colab_type": "code",
        "outputId": "41220874-35e7-48fe-b1d0-e8037eb0a1aa",
        "colab": {
          "base_uri": "https://localhost:8080/",
          "height": 194
        }
      },
      "source": [
        "import pandas as pd\n",
        "flight_delays = pd.read_table('flight_delays.txt', delimiter=',')\n",
        "flight_delays.head()"
      ],
      "execution_count": 0,
      "outputs": [
        {
          "output_type": "execute_result",
          "data": {
            "text/html": [
              "<div>\n",
              "<style scoped>\n",
              "    .dataframe tbody tr th:only-of-type {\n",
              "        vertical-align: middle;\n",
              "    }\n",
              "\n",
              "    .dataframe tbody tr th {\n",
              "        vertical-align: top;\n",
              "    }\n",
              "\n",
              "    .dataframe thead th {\n",
              "        text-align: right;\n",
              "    }\n",
              "</style>\n",
              "<table border=\"1\" class=\"dataframe\">\n",
              "  <thead>\n",
              "    <tr style=\"text-align: right;\">\n",
              "      <th></th>\n",
              "      <th>Unnamed: 0</th>\n",
              "      <th>schedtime</th>\n",
              "      <th>carrier</th>\n",
              "      <th>deptime</th>\n",
              "      <th>dest</th>\n",
              "      <th>distance</th>\n",
              "      <th>date</th>\n",
              "      <th>flightnumber</th>\n",
              "      <th>origin</th>\n",
              "      <th>weather</th>\n",
              "      <th>dayweek</th>\n",
              "      <th>daymonth</th>\n",
              "      <th>tailnu</th>\n",
              "      <th>delay</th>\n",
              "    </tr>\n",
              "  </thead>\n",
              "  <tbody>\n",
              "    <tr>\n",
              "      <th>0</th>\n",
              "      <td>1</td>\n",
              "      <td>1455</td>\n",
              "      <td>OH</td>\n",
              "      <td>1455</td>\n",
              "      <td>JFK</td>\n",
              "      <td>184</td>\n",
              "      <td>1/1/2004</td>\n",
              "      <td>5935</td>\n",
              "      <td>BWI</td>\n",
              "      <td>0</td>\n",
              "      <td>4</td>\n",
              "      <td>1</td>\n",
              "      <td>N940CA</td>\n",
              "      <td>ontime</td>\n",
              "    </tr>\n",
              "    <tr>\n",
              "      <th>1</th>\n",
              "      <td>2</td>\n",
              "      <td>1640</td>\n",
              "      <td>DH</td>\n",
              "      <td>1640</td>\n",
              "      <td>JFK</td>\n",
              "      <td>213</td>\n",
              "      <td>1/1/2004</td>\n",
              "      <td>6155</td>\n",
              "      <td>DCA</td>\n",
              "      <td>0</td>\n",
              "      <td>4</td>\n",
              "      <td>1</td>\n",
              "      <td>N405FJ</td>\n",
              "      <td>ontime</td>\n",
              "    </tr>\n",
              "    <tr>\n",
              "      <th>2</th>\n",
              "      <td>3</td>\n",
              "      <td>1245</td>\n",
              "      <td>DH</td>\n",
              "      <td>1245</td>\n",
              "      <td>LGA</td>\n",
              "      <td>229</td>\n",
              "      <td>1/1/2004</td>\n",
              "      <td>7208</td>\n",
              "      <td>IAD</td>\n",
              "      <td>0</td>\n",
              "      <td>4</td>\n",
              "      <td>1</td>\n",
              "      <td>N695BR</td>\n",
              "      <td>ontime</td>\n",
              "    </tr>\n",
              "    <tr>\n",
              "      <th>3</th>\n",
              "      <td>4</td>\n",
              "      <td>1715</td>\n",
              "      <td>DH</td>\n",
              "      <td>1709</td>\n",
              "      <td>LGA</td>\n",
              "      <td>229</td>\n",
              "      <td>1/1/2004</td>\n",
              "      <td>7215</td>\n",
              "      <td>IAD</td>\n",
              "      <td>0</td>\n",
              "      <td>4</td>\n",
              "      <td>1</td>\n",
              "      <td>N662BR</td>\n",
              "      <td>ontime</td>\n",
              "    </tr>\n",
              "    <tr>\n",
              "      <th>4</th>\n",
              "      <td>5</td>\n",
              "      <td>1039</td>\n",
              "      <td>DH</td>\n",
              "      <td>1035</td>\n",
              "      <td>LGA</td>\n",
              "      <td>229</td>\n",
              "      <td>1/1/2004</td>\n",
              "      <td>7792</td>\n",
              "      <td>IAD</td>\n",
              "      <td>0</td>\n",
              "      <td>4</td>\n",
              "      <td>1</td>\n",
              "      <td>N698BR</td>\n",
              "      <td>ontime</td>\n",
              "    </tr>\n",
              "  </tbody>\n",
              "</table>\n",
              "</div>"
            ],
            "text/plain": [
              "   Unnamed: 0  schedtime carrier  deptime  ... dayweek  daymonth  tailnu   delay\n",
              "0           1       1455      OH     1455  ...       4         1  N940CA  ontime\n",
              "1           2       1640      DH     1640  ...       4         1  N405FJ  ontime\n",
              "2           3       1245      DH     1245  ...       4         1  N695BR  ontime\n",
              "3           4       1715      DH     1709  ...       4         1  N662BR  ontime\n",
              "4           5       1039      DH     1035  ...       4         1  N698BR  ontime\n",
              "\n",
              "[5 rows x 14 columns]"
            ]
          },
          "metadata": {
            "tags": []
          },
          "execution_count": 3
        }
      ]
    },
    {
      "cell_type": "code",
      "metadata": {
        "id": "rdBGrrSptuSJ",
        "colab_type": "code",
        "outputId": "d610fd09-bfb0-4e49-f09d-dfdb9bbafd7d",
        "colab": {
          "base_uri": "https://localhost:8080/",
          "height": 35
        }
      },
      "source": [
        "flight_delays.shape"
      ],
      "execution_count": 0,
      "outputs": [
        {
          "output_type": "execute_result",
          "data": {
            "text/plain": [
              "(2201, 14)"
            ]
          },
          "metadata": {
            "tags": []
          },
          "execution_count": 4
        }
      ]
    },
    {
      "cell_type": "code",
      "metadata": {
        "id": "HdNQ7aNS2YNQ",
        "colab_type": "code",
        "outputId": "c90dcb79-2db8-478a-edb0-c3fb486fbe76",
        "colab": {
          "base_uri": "https://localhost:8080/",
          "height": 70
        }
      },
      "source": [
        "flight_delays.delay.value_counts()"
      ],
      "execution_count": 0,
      "outputs": [
        {
          "output_type": "execute_result",
          "data": {
            "text/plain": [
              "ontime     1773\n",
              "delayed     428\n",
              "Name: delay, dtype: int64"
            ]
          },
          "metadata": {
            "tags": []
          },
          "execution_count": 5
        }
      ]
    },
    {
      "cell_type": "code",
      "metadata": {
        "id": "ozXIyPKeX94D",
        "colab_type": "code",
        "outputId": "3f0c97e6-b677-450a-8ddf-b30889342bec",
        "colab": {
          "base_uri": "https://localhost:8080/",
          "height": 35
        }
      },
      "source": [
        "428/(1773+428)\n",
        "# This shows that the data is imbalanced with only 19% of the data corresponding to the delay class."
      ],
      "execution_count": 0,
      "outputs": [
        {
          "output_type": "execute_result",
          "data": {
            "text/plain": [
              "0.19445706497046797"
            ]
          },
          "metadata": {
            "tags": []
          },
          "execution_count": 6
        }
      ]
    },
    {
      "cell_type": "markdown",
      "metadata": {
        "id": "qzaNJGvfa3BQ",
        "colab_type": "text"
      },
      "source": [
        "Performing logistic regression to predict flight delays. Implementing elastic-net for variable selection. \n"
      ]
    },
    {
      "cell_type": "code",
      "metadata": {
        "id": "MijYmm_82YT0",
        "colab_type": "code",
        "outputId": "d676e401-b5b8-4104-b149-9678a8516937",
        "colab": {
          "base_uri": "https://localhost:8080/",
          "height": 284
        }
      },
      "source": [
        "flight_delays.dtypes"
      ],
      "execution_count": 0,
      "outputs": [
        {
          "output_type": "execute_result",
          "data": {
            "text/plain": [
              "Unnamed: 0       int64\n",
              "schedtime        int64\n",
              "carrier         object\n",
              "deptime          int64\n",
              "dest            object\n",
              "distance         int64\n",
              "date            object\n",
              "flightnumber     int64\n",
              "origin          object\n",
              "weather          int64\n",
              "dayweek          int64\n",
              "daymonth         int64\n",
              "tailnu          object\n",
              "delay           object\n",
              "dtype: object"
            ]
          },
          "metadata": {
            "tags": []
          },
          "execution_count": 7
        }
      ]
    },
    {
      "cell_type": "code",
      "metadata": {
        "id": "_clMnGBL2YYT",
        "colab_type": "code",
        "outputId": "d0082976-668e-4eef-f2a3-ff4292b938b6",
        "colab": {
          "base_uri": "https://localhost:8080/",
          "height": 35
        }
      },
      "source": [
        "print(flight_delays.carrier.unique())\n",
        "flight_delays['carrier'] = flight_delays['carrier'].astype('category')\n",
        "flight_delays['carrier_le'] = flight_delays['carrier'].cat.codes"
      ],
      "execution_count": 0,
      "outputs": [
        {
          "output_type": "stream",
          "text": [
            "['OH' 'DH' 'DL' 'MQ' 'UA' 'US' 'RU' 'CO']\n"
          ],
          "name": "stdout"
        }
      ]
    },
    {
      "cell_type": "code",
      "metadata": {
        "id": "rV3kXjPkw-5i",
        "colab_type": "code",
        "outputId": "6402095e-17ac-4552-d58c-703e6597d07f",
        "colab": {
          "base_uri": "https://localhost:8080/",
          "height": 52
        }
      },
      "source": [
        "flight_delays.daymonth.unique()"
      ],
      "execution_count": 0,
      "outputs": [
        {
          "output_type": "execute_result",
          "data": {
            "text/plain": [
              "array([ 1,  2,  3,  4,  5,  6,  7,  8,  9, 10, 11, 12, 13, 14, 15, 16, 17,\n",
              "       18, 19, 20, 21, 22, 23, 24, 25, 26, 27, 28, 29, 30, 31])"
            ]
          },
          "metadata": {
            "tags": []
          },
          "execution_count": 139
        }
      ]
    },
    {
      "cell_type": "code",
      "metadata": {
        "id": "XgA-H-fKw-sP",
        "colab_type": "code",
        "outputId": "cdf8a847-ad10-4eda-8157-62335ad64f4d",
        "colab": {
          "base_uri": "https://localhost:8080/",
          "height": 35
        }
      },
      "source": [
        "flight_delays.dayweek.unique()"
      ],
      "execution_count": 0,
      "outputs": [
        {
          "output_type": "execute_result",
          "data": {
            "text/plain": [
              "array([4, 5, 6, 7, 1, 2, 3])"
            ]
          },
          "metadata": {
            "tags": []
          },
          "execution_count": 140
        }
      ]
    },
    {
      "cell_type": "code",
      "metadata": {
        "id": "v74YFnjtYnGu",
        "colab_type": "code",
        "outputId": "62477f7c-f9b6-4806-b6de-8d46d8b80ac4",
        "colab": {
          "base_uri": "https://localhost:8080/",
          "height": 35
        }
      },
      "source": [
        "flight_delays.weather.unique()"
      ],
      "execution_count": 0,
      "outputs": [
        {
          "output_type": "execute_result",
          "data": {
            "text/plain": [
              "array([0, 1])"
            ]
          },
          "metadata": {
            "tags": []
          },
          "execution_count": 14
        }
      ]
    },
    {
      "cell_type": "code",
      "metadata": {
        "id": "bhIoN0Wz2YbS",
        "colab_type": "code",
        "outputId": "4254d675-07e5-480e-dda0-c461da2a1f51",
        "colab": {
          "base_uri": "https://localhost:8080/",
          "height": 35
        }
      },
      "source": [
        "print(flight_delays.dest.unique())\n",
        "flight_delays['dest'] = flight_delays['dest'].astype('category')\n",
        "flight_delays['dest_le'] = flight_delays['dest'].cat.codes"
      ],
      "execution_count": 0,
      "outputs": [
        {
          "output_type": "stream",
          "text": [
            "['JFK' 'LGA' 'EWR']\n"
          ],
          "name": "stdout"
        }
      ]
    },
    {
      "cell_type": "code",
      "metadata": {
        "id": "KoBo960T2YSN",
        "colab_type": "code",
        "outputId": "21345aca-0496-4cd7-b8f1-0764d8286cda",
        "colab": {
          "base_uri": "https://localhost:8080/",
          "height": 124
        }
      },
      "source": [
        "print(flight_delays.date.unique())\n",
        "#since the only relevant data in this feature is the day of the month, #which is already captured in \n",
        "#the daymonth variable. We can drop this variable"
      ],
      "execution_count": 0,
      "outputs": [
        {
          "output_type": "stream",
          "text": [
            "['1/1/2004' '1/2/2004' '1/3/2004' '1/4/2004' '1/5/2004' '1/6/2004'\n",
            " '1/7/2004' '1/8/2004' '1/9/2004' '1/10/2004' '1/11/2004' '1/12/2004'\n",
            " '1/13/2004' '1/14/2004' '1/15/2004' '1/16/2004' '1/17/2004' '1/18/2004'\n",
            " '1/19/2004' '1/20/2004' '1/21/2004' '1/22/2004' '1/23/2004' '1/24/2004'\n",
            " '1/25/2004' '1/26/2004' '1/27/2004' '1/28/2004' '1/29/2004' '1/30/2004'\n",
            " '1/31/2004']\n"
          ],
          "name": "stdout"
        }
      ]
    },
    {
      "cell_type": "code",
      "metadata": {
        "id": "mkRub73b2YLg",
        "colab_type": "code",
        "outputId": "be285e93-098e-41a0-ff56-c6d4d7ca3ef3",
        "colab": {
          "base_uri": "https://localhost:8080/",
          "height": 35
        }
      },
      "source": [
        "print(flight_delays.origin.unique())\n",
        "flight_delays['origin'] = flight_delays['origin'].astype('category')\n",
        "flight_delays['origin_le'] = flight_delays['origin'].cat.codes"
      ],
      "execution_count": 0,
      "outputs": [
        {
          "output_type": "stream",
          "text": [
            "['BWI' 'DCA' 'IAD']\n"
          ],
          "name": "stdout"
        }
      ]
    },
    {
      "cell_type": "code",
      "metadata": {
        "id": "3QMJqvKsHhPA",
        "colab_type": "code",
        "outputId": "cf702820-3964-44ca-f644-2b7bc26fd4d3",
        "colab": {
          "base_uri": "https://localhost:8080/",
          "height": 35
        }
      },
      "source": [
        "flight_delays.tailnu.unique()\n",
        "len(flight_delays.tailnu.unique())\n",
        "# since there are many unique values and these are categorical variables, this variable can be dropped"
      ],
      "execution_count": 0,
      "outputs": [
        {
          "output_type": "execute_result",
          "data": {
            "text/plain": [
              "549"
            ]
          },
          "metadata": {
            "tags": []
          },
          "execution_count": 12
        }
      ]
    },
    {
      "cell_type": "code",
      "metadata": {
        "id": "pmJpZJ0yvhpZ",
        "colab_type": "code",
        "outputId": "ded2093b-a895-4f67-921e-5460bae548d3",
        "colab": {
          "base_uri": "https://localhost:8080/",
          "height": 52
        }
      },
      "source": [
        "import numpy as np\n",
        "\n",
        "print(flight_delays.delay.unique())\n",
        "flight_delays['delay_le'] = np.where(flight_delays['delay'] == 'delayed', 1, 0)\n",
        "print(flight_delays.delay_le.unique())"
      ],
      "execution_count": 0,
      "outputs": [
        {
          "output_type": "stream",
          "text": [
            "['ontime' 'delayed']\n",
            "[0 1]\n"
          ],
          "name": "stdout"
        }
      ]
    },
    {
      "cell_type": "code",
      "metadata": {
        "id": "u7pIx-Dxf8CL",
        "colab_type": "code",
        "outputId": "eb2e32c2-efcd-4359-e5d4-c9cae144015e",
        "colab": {
          "base_uri": "https://localhost:8080/",
          "height": 195
        }
      },
      "source": [
        "# since there are many unique values and these are categorical values, this variable can be dropped\n",
        "flight_delays.flightnumber.unique()"
      ],
      "execution_count": 0,
      "outputs": [
        {
          "output_type": "execute_result",
          "data": {
            "text/plain": [
              "array([5935, 6155, 7208, 7215, 7792, 7800, 7806, 7810, 7812, 7814, 7924,\n",
              "        746, 1746, 1752, 1756, 1762, 1768, 4752, 4760, 4784, 4956, 4964,\n",
              "       4966, 4968, 4976,  846, 2164, 2168, 2172, 2176, 2180, 2188, 2403,\n",
              "       2675, 2303, 2703,  808,  814, 7299, 7302, 7303, 7304, 2497, 2385,\n",
              "       2261, 2336, 2216, 2156, 2664, 2181, 7211, 7790, 7808, 7816, 4960,\n",
              "       2160, 2184,  806, 7307, 7371, 2855, 2582, 2761, 2692, 3276, 2879,\n",
              "       1744, 1748, 1760, 1764, 2267, 2097, 4771, 4972, 2166, 2170, 2174,\n",
              "       2178, 2182, 2186, 2603,  810, 1740, 1742, 1750, 1754, 1766, 4952,\n",
              "       4954, 4970, 1479, 2162, 1758, 3372,  816, 2367, 7305, 7684, 7818,\n",
              "       2229, 2361, 1767, 2254])"
            ]
          },
          "metadata": {
            "tags": []
          },
          "execution_count": 14
        }
      ]
    },
    {
      "cell_type": "code",
      "metadata": {
        "id": "CT7XHNKkhzsQ",
        "colab_type": "code",
        "colab": {}
      },
      "source": [
        "flight_delays['hour'] =  flight_delays['schedtime']//100\n",
        "flight_delays['minute'] = flight_delays['schedtime']%100"
      ],
      "execution_count": 0,
      "outputs": []
    },
    {
      "cell_type": "markdown",
      "metadata": {
        "id": "VDxcC5FjoM3v",
        "colab_type": "text"
      },
      "source": [
        "The combination schedtime and deptime gives us the target 'delay' variable and also in a real world scenario we would need to predict the delay without any information about the departure time. Hence, the deptime is dropped and hour and minute of the schedtime is considered."
      ]
    },
    {
      "cell_type": "code",
      "metadata": {
        "id": "OMFhVhyWHhS5",
        "colab_type": "code",
        "outputId": "ee39aa3e-de7d-4a0e-e751-9b04e21b2864",
        "colab": {
          "base_uri": "https://localhost:8080/",
          "height": 390
        }
      },
      "source": [
        "flight_delays.isnull().sum(axis=0)"
      ],
      "execution_count": 0,
      "outputs": [
        {
          "output_type": "execute_result",
          "data": {
            "text/plain": [
              "Unnamed: 0      0\n",
              "schedtime       0\n",
              "carrier         0\n",
              "deptime         0\n",
              "dest            0\n",
              "distance        0\n",
              "date            0\n",
              "flightnumber    0\n",
              "origin          0\n",
              "weather         0\n",
              "dayweek         0\n",
              "daymonth        0\n",
              "tailnu          0\n",
              "delay           0\n",
              "carrier_le      0\n",
              "dest_le         0\n",
              "origin_le       0\n",
              "delay_le        0\n",
              "hour            0\n",
              "minute          0\n",
              "dtype: int64"
            ]
          },
          "metadata": {
            "tags": []
          },
          "execution_count": 16
        }
      ]
    },
    {
      "cell_type": "code",
      "metadata": {
        "id": "hgsIz7ziaIE1",
        "colab_type": "code",
        "outputId": "42a48e47-065c-451e-a611-9d65edef9f7d",
        "colab": {
          "base_uri": "https://localhost:8080/",
          "height": 390
        }
      },
      "source": [
        "flight_delays.dtypes"
      ],
      "execution_count": 0,
      "outputs": [
        {
          "output_type": "execute_result",
          "data": {
            "text/plain": [
              "Unnamed: 0         int64\n",
              "schedtime          int64\n",
              "carrier         category\n",
              "deptime            int64\n",
              "dest            category\n",
              "distance           int64\n",
              "date              object\n",
              "flightnumber       int64\n",
              "origin          category\n",
              "weather            int64\n",
              "dayweek            int64\n",
              "daymonth           int64\n",
              "tailnu            object\n",
              "delay             object\n",
              "carrier_le          int8\n",
              "dest_le             int8\n",
              "origin_le           int8\n",
              "delay_le           int64\n",
              "hour               int64\n",
              "minute             int64\n",
              "dtype: object"
            ]
          },
          "metadata": {
            "tags": []
          },
          "execution_count": 22
        }
      ]
    },
    {
      "cell_type": "code",
      "metadata": {
        "id": "efz9L2MuHhWr",
        "colab_type": "code",
        "colab": {}
      },
      "source": [
        "data = flight_delays.drop(['Unnamed: 0', 'delay', 'date', 'origin', 'dest', 'carrier', 'tailnu','delay_le', 'deptime', 'flightnumber', 'schedtime'], axis=1)"
      ],
      "execution_count": 0,
      "outputs": []
    },
    {
      "cell_type": "code",
      "metadata": {
        "id": "Rjo3xmVevNFS",
        "colab_type": "code",
        "outputId": "3a841468-854d-4358-c50e-f08f6db2ebf4",
        "colab": {
          "base_uri": "https://localhost:8080/",
          "height": 610
        }
      },
      "source": [
        "import seaborn as sns\n",
        "import matplotlib.pyplot as plt\n",
        "\n",
        "data = flight_delays.drop(['Unnamed: 0', 'delay', 'date', 'origin', 'dest', 'carrier','deptime'], axis=1)\n",
        "#ww2_weath_float_vars.head()\n",
        "corr_matrix = data.corr().abs()\n",
        "mask = np.zeros_like(corr_matrix, dtype=np.bool)\n",
        "mask[np.triu_indices_from(mask)] = True\n",
        "upper = corr_matrix.where(np.triu(np.ones(corr_matrix.shape), k=1).astype(np.bool))\n",
        "f, ax = plt.subplots(figsize=(11, 9))\n",
        "\n",
        "# Generate a custom diverging colormap\n",
        "cmap = sns.diverging_palette(220, 10, as_cmap=True)\n",
        "\n",
        "# Draw the heatmap with the mask and correct aspect ratio\n",
        "sns.heatmap(corr_matrix, mask=mask, cmap=cmap, vmax=1, center=0,\n",
        "            square=True, linewidths=.5, cbar_kws={\"shrink\": .5})"
      ],
      "execution_count": 0,
      "outputs": [
        {
          "output_type": "execute_result",
          "data": {
            "text/plain": [
              "<matplotlib.axes._subplots.AxesSubplot at 0x7fb2767e0f98>"
            ]
          },
          "metadata": {
            "tags": []
          },
          "execution_count": 19
        },
        {
          "output_type": "display_data",
          "data": {
            "image/png": "[encoded data removed]",
            "text/plain": [
              "<Figure size 792x648 with 2 Axes>"
            ]
          },
          "metadata": {
            "tags": []
          }
        }
      ]
    },
    {
      "cell_type": "code",
      "metadata": {
        "id": "40LbXWaTHhM2",
        "colab_type": "code",
        "outputId": "179b6e04-52e7-4897-cf83-49ac3a84ee06",
        "colab": {
          "base_uri": "https://localhost:8080/",
          "height": 194
        }
      },
      "source": [
        "data.head()"
      ],
      "execution_count": 0,
      "outputs": [
        {
          "output_type": "execute_result",
          "data": {
            "text/html": [
              "<div>\n",
              "<style scoped>\n",
              "    .dataframe tbody tr th:only-of-type {\n",
              "        vertical-align: middle;\n",
              "    }\n",
              "\n",
              "    .dataframe tbody tr th {\n",
              "        vertical-align: top;\n",
              "    }\n",
              "\n",
              "    .dataframe thead th {\n",
              "        text-align: right;\n",
              "    }\n",
              "</style>\n",
              "<table border=\"1\" class=\"dataframe\">\n",
              "  <thead>\n",
              "    <tr style=\"text-align: right;\">\n",
              "      <th></th>\n",
              "      <th>distance</th>\n",
              "      <th>weather</th>\n",
              "      <th>dayweek</th>\n",
              "      <th>daymonth</th>\n",
              "      <th>carrier_le</th>\n",
              "      <th>dest_le</th>\n",
              "      <th>origin_le</th>\n",
              "      <th>hour</th>\n",
              "      <th>minute</th>\n",
              "    </tr>\n",
              "  </thead>\n",
              "  <tbody>\n",
              "    <tr>\n",
              "      <th>0</th>\n",
              "      <td>184</td>\n",
              "      <td>0</td>\n",
              "      <td>4</td>\n",
              "      <td>1</td>\n",
              "      <td>4</td>\n",
              "      <td>1</td>\n",
              "      <td>0</td>\n",
              "      <td>14</td>\n",
              "      <td>55</td>\n",
              "    </tr>\n",
              "    <tr>\n",
              "      <th>1</th>\n",
              "      <td>213</td>\n",
              "      <td>0</td>\n",
              "      <td>4</td>\n",
              "      <td>1</td>\n",
              "      <td>1</td>\n",
              "      <td>1</td>\n",
              "      <td>1</td>\n",
              "      <td>16</td>\n",
              "      <td>40</td>\n",
              "    </tr>\n",
              "    <tr>\n",
              "      <th>2</th>\n",
              "      <td>229</td>\n",
              "      <td>0</td>\n",
              "      <td>4</td>\n",
              "      <td>1</td>\n",
              "      <td>1</td>\n",
              "      <td>2</td>\n",
              "      <td>2</td>\n",
              "      <td>12</td>\n",
              "      <td>45</td>\n",
              "    </tr>\n",
              "    <tr>\n",
              "      <th>3</th>\n",
              "      <td>229</td>\n",
              "      <td>0</td>\n",
              "      <td>4</td>\n",
              "      <td>1</td>\n",
              "      <td>1</td>\n",
              "      <td>2</td>\n",
              "      <td>2</td>\n",
              "      <td>17</td>\n",
              "      <td>15</td>\n",
              "    </tr>\n",
              "    <tr>\n",
              "      <th>4</th>\n",
              "      <td>229</td>\n",
              "      <td>0</td>\n",
              "      <td>4</td>\n",
              "      <td>1</td>\n",
              "      <td>1</td>\n",
              "      <td>2</td>\n",
              "      <td>2</td>\n",
              "      <td>10</td>\n",
              "      <td>39</td>\n",
              "    </tr>\n",
              "  </tbody>\n",
              "</table>\n",
              "</div>"
            ],
            "text/plain": [
              "   distance  weather  dayweek  daymonth  ...  dest_le  origin_le  hour  minute\n",
              "0       184        0        4         1  ...        1          0    14      55\n",
              "1       213        0        4         1  ...        1          1    16      40\n",
              "2       229        0        4         1  ...        2          2    12      45\n",
              "3       229        0        4         1  ...        2          2    17      15\n",
              "4       229        0        4         1  ...        2          2    10      39\n",
              "\n",
              "[5 rows x 9 columns]"
            ]
          },
          "metadata": {
            "tags": []
          },
          "execution_count": 22
        }
      ]
    },
    {
      "cell_type": "code",
      "metadata": {
        "id": "BkG2T--T13lY",
        "colab_type": "code",
        "colab": {}
      },
      "source": [
        "target = flight_delays['delay_le']"
      ],
      "execution_count": 0,
      "outputs": []
    },
    {
      "cell_type": "code",
      "metadata": {
        "id": "vNG-Cjlo2YE4",
        "colab_type": "code",
        "colab": {}
      },
      "source": [
        "from sklearn.preprocessing import StandardScaler\n",
        "scaler = StandardScaler()\n",
        "x = scaler.fit_transform(data)\n"
      ],
      "execution_count": 0,
      "outputs": []
    },
    {
      "cell_type": "code",
      "metadata": {
        "id": "azXAYVgh2uOB",
        "colab_type": "code",
        "colab": {}
      },
      "source": [
        "from sklearn.model_selection import train_test_split\n",
        "x_train, x_test, y_train, y_test = train_test_split(x, \n",
        "                                                    target, \n",
        "                                                    test_size=0.2, \n",
        "                                                    random_state=1\n",
        "                                                   )"
      ],
      "execution_count": 0,
      "outputs": []
    },
    {
      "cell_type": "code",
      "metadata": {
        "id": "kPcc6KHM2uUo",
        "colab_type": "code",
        "colab": {}
      },
      "source": [
        "from sklearn.linear_model import LogisticRegressionCV\n",
        "from sklearn import metrics\n",
        "clf = LogisticRegressionCV(solver = 'saga',\n",
        "                           penalty = 'elasticnet',\n",
        "                           #l1_ratios = [0.1, 0.2, 0.3, 0.5, 0.8],\n",
        "                           l1_ratios = [0.2],\n",
        "                           Cs = 100,\n",
        "                           n_jobs = -1,\n",
        "                           random_state = 0,\n",
        "                           max_iter = 1000\n",
        ")"
      ],
      "execution_count": 0,
      "outputs": []
    },
    {
      "cell_type": "code",
      "metadata": {
        "id": "_X_K1-ht2ulh",
        "colab_type": "code",
        "colab": {}
      },
      "source": [
        "clf_model = clf.fit(x_train, y_train) \n",
        "#clf_model.score(x_train, y_train)\n",
        "#clf_model.score(x_test, y_test)"
      ],
      "execution_count": 0,
      "outputs": []
    },
    {
      "cell_type": "code",
      "metadata": {
        "id": "T1Sjndvl2uSR",
        "colab_type": "code",
        "outputId": "9bdbf008-7f85-4867-b0e0-26b619048a68",
        "colab": {
          "base_uri": "https://localhost:8080/",
          "height": 35
        }
      },
      "source": [
        "clf_model.l1_ratio_"
      ],
      "execution_count": 0,
      "outputs": [
        {
          "output_type": "execute_result",
          "data": {
            "text/plain": [
              "array([0.2])"
            ]
          },
          "metadata": {
            "tags": []
          },
          "execution_count": 28
        }
      ]
    },
    {
      "cell_type": "markdown",
      "metadata": {
        "id": "bqj9U1A8SpPi",
        "colab_type": "text"
      },
      "source": [
        "The L1 ratio of 0.2 seems to give the best results."
      ]
    },
    {
      "cell_type": "code",
      "metadata": {
        "id": "8NI2QAzKFjYr",
        "colab_type": "code",
        "colab": {}
      },
      "source": [
        "clf_model."
      ],
      "execution_count": 0,
      "outputs": []
    },
    {
      "cell_type": "markdown",
      "metadata": {
        "id": "L0RM9EqCmOoZ",
        "colab_type": "text"
      },
      "source": [
        "Create ROC curves for your train and test sets. "
      ]
    },
    {
      "cell_type": "code",
      "metadata": {
        "id": "cRMOfy568oKz",
        "colab_type": "code",
        "outputId": "2c204f3d-7119-4199-98b1-0a7971baac7e",
        "colab": {
          "base_uri": "https://localhost:8080/",
          "height": 35
        }
      },
      "source": [
        "x_train_probs = clf_model.predict_proba(x_train)\n",
        "x_train_probs.shape"
      ],
      "execution_count": 0,
      "outputs": [
        {
          "output_type": "execute_result",
          "data": {
            "text/plain": [
              "(1760, 2)"
            ]
          },
          "metadata": {
            "tags": []
          },
          "execution_count": 31
        }
      ]
    },
    {
      "cell_type": "code",
      "metadata": {
        "id": "DZE3i3Ld8oXv",
        "colab_type": "code",
        "outputId": "a09431fa-ad55-4691-a9d8-6a981e943871",
        "colab": {
          "base_uri": "https://localhost:8080/",
          "height": 35
        }
      },
      "source": [
        "#AUC\n",
        "from sklearn import metrics\n",
        "fpr, tpr, thresholds = metrics.roc_curve(y_train, x_train_probs[:,1])\n",
        "metrics.auc(fpr, tpr)"
      ],
      "execution_count": 0,
      "outputs": [
        {
          "output_type": "execute_result",
          "data": {
            "text/plain": [
              "0.6535409734202157"
            ]
          },
          "metadata": {
            "tags": []
          },
          "execution_count": 32
        }
      ]
    },
    {
      "cell_type": "code",
      "metadata": {
        "id": "0YqnH8mh8ocB",
        "colab_type": "code",
        "outputId": "fc913990-8f19-4a18-adbf-6e695160b72c",
        "colab": {
          "base_uri": "https://localhost:8080/",
          "height": 35
        }
      },
      "source": [
        "x_test_probs = clf_model.predict_proba(x_test)\n",
        "fpr, tpr, thresholds = metrics.roc_curve(y_test, x_test_probs[:,1])\n",
        "metrics.auc(fpr, tpr)"
      ],
      "execution_count": 0,
      "outputs": [
        {
          "output_type": "execute_result",
          "data": {
            "text/plain": [
              "0.67545349548203"
            ]
          },
          "metadata": {
            "tags": []
          },
          "execution_count": 33
        }
      ]
    },
    {
      "cell_type": "code",
      "metadata": {
        "id": "HESmJfDJTR9G",
        "colab_type": "code",
        "colab": {}
      },
      "source": [
        "x_test_df = pd.DataFrame(x_test)\n",
        "x_test_df['predictions_1'] = x_test_probs[:, 1] \n",
        "x_train_df = pd.DataFrame(x_train)\n",
        "x_train_df['predictions_1'] = x_train_probs[:, 1] "
      ],
      "execution_count": 0,
      "outputs": []
    },
    {
      "cell_type": "code",
      "metadata": {
        "id": "yhDmFHJBSnDA",
        "colab_type": "code",
        "outputId": "f61045ea-d166-4cba-8628-eed96e078b71",
        "colab": {
          "base_uri": "https://localhost:8080/",
          "height": 295
        }
      },
      "source": [
        "import matplotlib.pyplot as plt\n",
        "from sklearn.metrics import confusion_matrix, roc_curve, roc_auc_score\n",
        "\n",
        "plt.plot(roc_curve(y_train, x_train_df['predictions_1'])[0],roc_curve(y_train, x_train_df['predictions_1'])[1], \n",
        "         color = 'blue', label='Train ROC Curve (area = %0.2f)' % roc_auc_score(y_train, x_train_df['predictions_1']))\n",
        "\n",
        "plt.plot(roc_curve(y_test, x_test_df['predictions_1'])[0],roc_curve(y_test, x_test_df['predictions_1'])[1], \n",
        "         color = 'red', label='Test ROC Curve (area = %0.2f)' % roc_auc_score(y_test, x_test_df['predictions_1']))\n",
        "\n",
        "\n",
        "plt.plot([0, 1], [0, 1], color='black', linestyle='--')\n",
        "plt.xlim([0.0, 1.0])\n",
        "plt.ylim([0.0, 1.])\n",
        "plt.xlabel('False Positive Rate')\n",
        "plt.ylabel('True Positive Rate')\n",
        "plt.title('Flight delays')\n",
        "plt.legend()\n",
        "plt.show()"
      ],
      "execution_count": 0,
      "outputs": [
        {
          "output_type": "display_data",
          "data": {
            "image/png": "[encoded data removed]",
            "text/plain": [
              "<Figure size 432x288 with 1 Axes>"
            ]
          },
          "metadata": {
            "tags": []
          }
        }
      ]
    },
    {
      "cell_type": "markdown",
      "metadata": {
        "id": "RsbPT5jjmllg",
        "colab_type": "text"
      },
      "source": [
        "Based on the AUC values and ROC curve, the model seems to be underfitting. \n",
        "\n",
        "The AUC value for the train set is 0.65\n",
        "\n",
        "The AUC value for the test set is 0.68"
      ]
    },
    {
      "cell_type": "markdown",
      "metadata": {
        "id": "ftz4IekEpUfR",
        "colab_type": "text"
      },
      "source": [
        "Decide on a threshold to classify flights in your test set as \"on time\", or \"delayed\". Create a confusion matrix. "
      ]
    },
    {
      "cell_type": "code",
      "metadata": {
        "id": "bLT3aTlXJ2B0",
        "colab_type": "code",
        "outputId": "d1fbb5a2-15f6-41d8-96fb-c158351922e9",
        "colab": {
          "base_uri": "https://localhost:8080/",
          "height": 35
        }
      },
      "source": [
        "x_test_df['resp'].shape\n",
        "y_test.shape"
      ],
      "execution_count": 0,
      "outputs": [
        {
          "output_type": "execute_result",
          "data": {
            "text/plain": [
              "(441,)"
            ]
          },
          "metadata": {
            "tags": []
          },
          "execution_count": 41
        }
      ]
    },
    {
      "cell_type": "code",
      "metadata": {
        "id": "rhSxvEQYLoJw",
        "colab_type": "code",
        "outputId": "b1f39d1c-06fa-48ee-c83a-ca0dd843ae3e",
        "colab": {
          "base_uri": "https://localhost:8080/",
          "height": 52
        }
      },
      "source": [
        "from sklearn.metrics import confusion_matrix\n",
        "x_test_df['resp'] = x_test_df['predictions_1'].map(lambda x: 1 if x > 0.3 else 0)\n",
        "TN, FP, FN, TP = confusion_matrix(y_test, x_test_df['resp']).ravel()\n",
        "print(confusion_matrix(y_test, x_test_df['resp']))"
      ],
      "execution_count": 0,
      "outputs": [
        {
          "output_type": "stream",
          "text": [
            "[[359   0]\n",
            " [ 71  11]]\n"
          ],
          "name": "stdout"
        }
      ]
    },
    {
      "cell_type": "code",
      "metadata": {
        "id": "8GxJTyriS4rQ",
        "colab_type": "code",
        "outputId": "be14b621-5fcc-4e2f-b9cb-67683de95ae8",
        "colab": {
          "base_uri": "https://localhost:8080/",
          "height": 124
        }
      },
      "source": [
        "\n",
        "# Sensitivity - TP/TP+FN\n",
        "recall = TP/(TP+FN)\n",
        "print(\"Sensitivity = \", recall)\n",
        "# Specificity - TN/TN+FP\n",
        "specificity = TN/(TN+FP)\n",
        "print(\"Specificity = \", specificity)\n",
        "# PPV - TP/TP+FP\n",
        "precision = TP/(TP+FP)\n",
        "print(\"PPV = \", precision)\n",
        "# NPV - TN/TN+FN\n",
        "npv = TN/(TN+FN)\n",
        "print(\"NPV = \", npv)\n",
        "# F1 score - 2(precision * recall)/precision+recall\n",
        "F1_score = (2*(precision * recall))/(precision + recall)\n",
        "print(\"F1 score = \", F1_score)\n",
        "# Accuracy - correct classifications/ Total observations\n",
        "print(\"Accuracy = \", (TP+TN)/(TP+FP+TN+FN))"
      ],
      "execution_count": 0,
      "outputs": [
        {
          "output_type": "stream",
          "text": [
            "Sensitivity =  0.13414634146341464\n",
            "Specificity =  1.0\n",
            "PPV =  1.0\n",
            "NPV =  0.8348837209302326\n",
            "F1 score =  0.23655913978494622\n",
            "Accuracy =  0.8390022675736961\n"
          ],
          "name": "stdout"
        }
      ]
    },
    {
      "cell_type": "markdown",
      "metadata": {
        "id": "tf-EduGCItY9",
        "colab_type": "text"
      },
      "source": [
        "A threshold value of 0.3 is picked since higher values result in decrease in the recall and F1 score."
      ]
    },
    {
      "cell_type": "markdown",
      "metadata": {
        "id": "OkZ8ZGe6q7Lk",
        "colab_type": "text"
      },
      "source": [
        "**KNN**\n",
        "\n",
        "\n"
      ]
    },
    {
      "cell_type": "code",
      "metadata": {
        "id": "rvM2F0LLq6bt",
        "colab_type": "code",
        "outputId": "0f98a756-05b0-4e4d-bbcc-279518d3edb1",
        "colab": {
          "base_uri": "https://localhost:8080/",
          "height": 35
        }
      },
      "source": [
        "#checking if the features are a numpy array\n",
        "type(x_train)"
      ],
      "execution_count": 0,
      "outputs": [
        {
          "output_type": "execute_result",
          "data": {
            "text/plain": [
              "numpy.ndarray"
            ]
          },
          "metadata": {
            "tags": []
          },
          "execution_count": 67
        }
      ]
    },
    {
      "cell_type": "code",
      "metadata": {
        "id": "ZW5x_4pJr538",
        "colab_type": "code",
        "colab": {}
      },
      "source": [
        "from sklearn import neighbors\n",
        "knn_clf = neighbors.KNeighborsClassifier(100, weights = 'uniform') #distance -try "
      ],
      "execution_count": 0,
      "outputs": []
    },
    {
      "cell_type": "code",
      "metadata": {
        "id": "zO5BSj0Pr5-V",
        "colab_type": "code",
        "outputId": "cb9564de-9373-4d56-dc81-efed537d08ae",
        "colab": {
          "base_uri": "https://localhost:8080/",
          "height": 35
        }
      },
      "source": [
        "knn_model = knn_clf.fit(x_train, y_train)\n",
        "knn_model.score(x_train, y_train)"
      ],
      "execution_count": 0,
      "outputs": [
        {
          "output_type": "execute_result",
          "data": {
            "text/plain": [
              "0.803409090909091"
            ]
          },
          "metadata": {
            "tags": []
          },
          "execution_count": 69
        }
      ]
    },
    {
      "cell_type": "code",
      "metadata": {
        "id": "wkGAQLHgr6CO",
        "colab_type": "code",
        "outputId": "7fd05a3d-5197-4abe-f001-9b302fc51fe7",
        "colab": {
          "base_uri": "https://localhost:8080/",
          "height": 35
        }
      },
      "source": [
        "knn_model.score(x_test, y_test)"
      ],
      "execution_count": 0,
      "outputs": [
        {
          "output_type": "execute_result",
          "data": {
            "text/plain": [
              "0.8140589569160998"
            ]
          },
          "metadata": {
            "tags": []
          },
          "execution_count": 70
        }
      ]
    },
    {
      "cell_type": "code",
      "metadata": {
        "id": "bE2VLZx7r58y",
        "colab_type": "code",
        "outputId": "500a1bef-699e-4621-cdc8-0e82bf2e1094",
        "colab": {
          "base_uri": "https://localhost:8080/",
          "height": 35
        }
      },
      "source": [
        "x_test_probs = knn_model.predict_proba(x_test)\n",
        "fpr, tpr, thresholds = metrics.roc_curve(y_test, x_test_probs[:,1])\n",
        "metrics.auc(fpr, tpr)"
      ],
      "execution_count": 0,
      "outputs": [
        {
          "output_type": "execute_result",
          "data": {
            "text/plain": [
              "0.6788504653848766"
            ]
          },
          "metadata": {
            "tags": []
          },
          "execution_count": 71
        }
      ]
    },
    {
      "cell_type": "code",
      "metadata": {
        "id": "arha7gc0r513",
        "colab_type": "code",
        "outputId": "faa66b25-ed74-4636-a956-8443b32b1207",
        "colab": {
          "base_uri": "https://localhost:8080/",
          "height": 295
        }
      },
      "source": [
        "import matplotlib.pyplot as plt\n",
        "from sklearn.metrics import confusion_matrix, roc_curve, roc_auc_score\n",
        "plt.plot(roc_curve(y_test, x_test_probs[:,1])[0],roc_curve(y_test, x_test_probs[:,1])[1], \n",
        "         color = 'red', label='Test ROC Curve (area = %0.2f)' % roc_auc_score(y_test, x_test_probs[:,1]))\n",
        "\n",
        "\n",
        "plt.plot([0, 1], [0, 1], color='black', linestyle='--')\n",
        "plt.xlim([0.0, 1.0])\n",
        "plt.ylim([0.0, 1.])\n",
        "plt.xlabel('False Positive Rate')\n",
        "plt.ylabel('True Positive Rate')\n",
        "plt.title('Flight delays')\n",
        "plt.legend()\n",
        "plt.show()"
      ],
      "execution_count": 0,
      "outputs": [
        {
          "output_type": "display_data",
          "data": {
            "image/png": "[encoded data removed]",
            "text/plain": [
              "<Figure size 432x288 with 1 Axes>"
            ]
          },
          "metadata": {
            "tags": []
          }
        }
      ]
    },
    {
      "cell_type": "markdown",
      "metadata": {
        "id": "W5YQupMKXnJl",
        "colab_type": "text"
      },
      "source": [
        "The KNN and Logistic Regression model have almost the same values of AUC with KNN performing better by 0.003."
      ]
    }
  ]
}